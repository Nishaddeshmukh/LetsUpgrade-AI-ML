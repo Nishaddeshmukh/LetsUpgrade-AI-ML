{
 "cells": [
  {
   "cell_type": "code",
   "execution_count": 11,
   "metadata": {},
   "outputs": [
    {
     "name": "stdout",
     "output_type": "stream",
     "text": [
      "Subtraction of two complex number =  (2-7j)\n"
     ]
    }
   ],
   "source": [
    "#program to subtract two complex numbers in Python\n",
    "\n",
    "No1 = 3 + 7j\n",
    "No2 = 1 + 14j\n",
    "print('Subtraction of two complex number = ', complexno - complexno1)"
   ]
  },
  {
   "cell_type": "code",
   "execution_count": 8,
   "metadata": {},
   "outputs": [
    {
     "name": "stdout",
     "output_type": "stream",
     "text": [
      "4.0\n"
     ]
    }
   ],
   "source": [
    "# program to find the fourth root of a number.\n",
    "\n",
    "num=256\n",
    "\n",
    "root=4\n",
    "\n",
    "ans=num**(1/root)\n",
    "\n",
    "print(ans)"
   ]
  },
  {
   "cell_type": "code",
   "execution_count": 10,
   "metadata": {},
   "outputs": [
    {
     "name": "stdout",
     "output_type": "stream",
     "text": [
      "x value after swapping =  10\n",
      "y value after swapping =  5\n"
     ]
    }
   ],
   "source": [
    "# swap two numbers using temporary variable\n",
    "\n",
    "x = 5\n",
    "y = 10\n",
    "\n",
    "# using a temporary variable to swap the values\n",
    "temp = x\n",
    "x = y\n",
    "y = temp\n",
    "\n",
    "print('x value after swapping = ',x)\n",
    "print('y value after swapping = ',y)"
   ]
  },
  {
   "cell_type": "code",
   "execution_count": 12,
   "metadata": {},
   "outputs": [
    {
     "name": "stdout",
     "output_type": "stream",
     "text": [
      "x value after swapping =  23\n",
      "y value after swapping =  20\n"
     ]
    }
   ],
   "source": [
    "# swap two numbers without using temporary variable\n",
    "\n",
    "x = 20\n",
    "y = 23\n",
    "\n",
    "\n",
    "x = x + y\n",
    "y = x - y\n",
    "x = x - y\n",
    "\n",
    "print('x value after swapping = ',x)\n",
    "print('y value after swapping = ',y)\n"
   ]
  },
  {
   "cell_type": "code",
   "execution_count": 15,
   "metadata": {},
   "outputs": [
    {
     "name": "stdout",
     "output_type": "stream",
     "text": [
      "100 °F is same as  311.27777777777777 °k \n",
      "100 °F is same as  37.77777777777778 °C\n"
     ]
    }
   ],
   "source": [
    "#program to convert fahrenheit to kelvin and celsius both\n",
    "\n",
    "f=100\n",
    "\n",
    "k = 273.5 + ((f - 32.0) * (5.0/9.0))\n",
    "cel = (5.0/9.0) * (f - 32.0)\n",
    "\n",
    "print(f,\"°F is same as \",k,\"°k \")\n",
    "print(f,\"°F is same as \",cel,\"°C\")"
   ]
  },
  {
   "cell_type": "code",
   "execution_count": 22,
   "metadata": {},
   "outputs": [
    {
     "name": "stdout",
     "output_type": "stream",
     "text": [
      "a is of type  <class 'int'>\n",
      "a is of type  <class 'float'>\n",
      "a is of type  <class 'complex'>\n",
      "string\n",
      "s is of type  <class 'str'>\n",
      "li[2] =  15\n",
      "li[2] =  python\n",
      "li is of type  <class 'list'>\n",
      "t[1] =  program\n",
      "t is of type  <class 'tuple'>\n",
      "d is of type  <class 'dict'>\n"
     ]
    }
   ],
   "source": [
    "#program to demonstrate all the available data types in Python. \n",
    "\n",
    "# NUMBERS\n",
    "\n",
    "a = 5\n",
    "print(\"a is of type \", type(a))\n",
    "\n",
    "a = 2.0\n",
    "print(\"a is of type \", type(a))\n",
    "\n",
    "a = 1+2j\n",
    "print(\"a is of type \",type(a))\n",
    "\n",
    "\n",
    "# STRING\n",
    "\n",
    "st =\"string\"\n",
    "print(st)\n",
    "print(\"s is of type \",type(st))\n",
    "\n",
    "# LIST\n",
    "\n",
    "li = [5,10,15,20,25,30,35,40]\n",
    "\n",
    "print(\"li[2] = \", li[2])\n",
    "\n",
    "li = [1, 2.2, 'python']\n",
    "\n",
    "print(\"li[2] = \", li[2])\n",
    "\n",
    "print(\"li is of type \",type(li))\n",
    "\n",
    "# TUPLE\n",
    "\n",
    "t = (5,'program', 1+3j)\n",
    "\n",
    "print(\"t[1] = \", t[1]) #we cannot change its value .\n",
    "\n",
    "print(\"t is of type \",type(t))\n",
    "\n",
    "\n",
    "# DICTIONARY\n",
    "\n",
    "d = {1:'value','key':2}\n",
    "print(\"d is of type \",type(d))\n",
    "\n",
    "\n"
   ]
  },
  {
   "cell_type": "markdown",
   "metadata": {},
   "source": [
    "# steps discussed in the session by Dr. Darshan Ingle sir to create Github profile and upload Githubs Assignment link.\n",
    "\n",
    "**How to submit Assignments?**\n",
    "\n",
    "1. Create a Github public repository and name it LetsUpgrade AI/ML \n",
    "\n",
    "2. Upload the files/solution in the repo in day wise manner.\n",
    "\n",
    "3. Copy the URL of the Folder of that day and paste in the Assignment Submission Form (Google Form)\n",
    "\n",
    "4. Make sure you are filling correct details in the Assignment Submission Form and then submit it.\n"
   ]
  },
  {
   "cell_type": "code",
   "execution_count": null,
   "metadata": {},
   "outputs": [],
   "source": []
  },
  {
   "cell_type": "code",
   "execution_count": null,
   "metadata": {},
   "outputs": [],
   "source": []
  }
 ],
 "metadata": {
  "kernelspec": {
   "display_name": "Python 3",
   "language": "python",
   "name": "python3"
  },
  "language_info": {
   "codemirror_mode": {
    "name": "ipython",
    "version": 3
   },
   "file_extension": ".py",
   "mimetype": "text/x-python",
   "name": "python",
   "nbconvert_exporter": "python",
   "pygments_lexer": "ipython3",
   "version": "3.7.6"
  }
 },
 "nbformat": 4,
 "nbformat_minor": 4
}
