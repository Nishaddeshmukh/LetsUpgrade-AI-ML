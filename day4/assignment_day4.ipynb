{
 "cells": [
  {
   "cell_type": "code",
   "execution_count": 10,
   "metadata": {},
   "outputs": [
    {
     "name": "stdout",
     "output_type": "stream",
     "text": [
      "Addition of two Complex number is (2+11j)\n",
      "Subtraction of two Complex number is =  (1-1j)\n",
      "Multiplication of two Complex number is =  (-28+17j)\n",
      "Division of two Complex number is =  (0.8648648648648648-0.1891891891891892j)\n"
     ]
    },
    {
     "data": {
      "text/plain": [
       "' Complex numbers are numbers with a real and imaginary part. \\nwe can not use Floor division and modulo operator on complex number '"
      ]
     },
     "execution_count": 10,
     "metadata": {},
     "output_type": "execute_result"
    }
   ],
   "source": [
    "#Question 1 :Research on whether addition, subtraction, multiplication, division, floor division and modulo operations be performed on complex numbers. Based on your study, implement a Python\n",
    "#program to demonstrate these operations.\n",
    "\n",
    "\n",
    "#Addition Operation on complex numbers\n",
    "first=1+5j\n",
    "second=1+6J\n",
    "print(\"Addition of two Complex number is\",first+second)\n",
    "\n",
    "#Substraction Operation on complex number\n",
    "first=2+5j\n",
    "second=1+6J\n",
    "\n",
    "print(\"Subtraction of two Complex number is = \",first-second)\n",
    "\n",
    "# Multiplacation Operation on Complex number\n",
    "first=2+5j\n",
    "second=1+6J\n",
    "print(\"Multiplication of two Complex number is = \",first*second)\n",
    "\n",
    "#Division Operation on Complex number\n",
    "first=2+5j\n",
    "second=1+6J\n",
    "print(\"Division of two Complex number is = \",first/second)\n",
    "\n",
    "# Floor division and modulo operator on complex number \n",
    "\"\"\" Complex numbers are numbers with a real and imaginary part. \n",
    "we can not use Floor division and modulo operator on complex number \"\"\""
   ]
  },
  {
   "cell_type": "markdown",
   "metadata": {},
   "source": [
    "# Question 2 :\n",
    "__Research on range() functions and its parameters. Create a markdown cell and write in your own words (no copy-paste from google please) what you understand about it. Implement a small program of your choice on the same.__"
   ]
  },
  {
   "cell_type": "markdown",
   "metadata": {},
   "source": [
    "Syntax: range(start, stop, step)\n",
    "\n",
    "range function has three arguments, in which start, stop are optional.\n",
    "\n",
    "start: It is starting number of a range. it is 0 by default.\n",
    "\n",
    "stop: It is a generate range upto a number.\n",
    "\n",
    "step : It is the difference between two numbers."
   ]
  },
  {
   "cell_type": "markdown",
   "metadata": {},
   "source": [
    "# Question 3:"
   ]
  },
  {
   "cell_type": "code",
   "execution_count": 22,
   "metadata": {},
   "outputs": [
    {
     "name": "stdout",
     "output_type": "stream",
     "text": [
      "4\n",
      "5\n",
      "division value =  0.8\n"
     ]
    }
   ],
   "source": [
    "#Consider two numbers. Perform their subtraction and if the result of subtraction is greater than\n",
    "#25, print their multiplication result else print their division result.\n",
    "\n",
    "a=int(input())\n",
    "b=int(input())\n",
    "\n",
    "c=a-b\n",
    "\n",
    "if c>25:\n",
    "    print('multiplication value = ',a*b)\n",
    "else :\n",
    "    print('division value = ',a/b)"
   ]
  },
  {
   "cell_type": "markdown",
   "metadata": {},
   "source": [
    "# Question 4:"
   ]
  },
  {
   "cell_type": "code",
   "execution_count": 21,
   "metadata": {
    "scrolled": true
   },
   "outputs": [
    {
     "name": "stdout",
     "output_type": "stream",
     "text": [
      "Result 98\n",
      "Result 62\n",
      "Result 34\n",
      "Result 14\n",
      "Result 2\n",
      "\n"
     ]
    }
   ],
   "source": [
    "#Consider a list of 10 elements of integer values. If the number in the list is divisible by 2, print the\n",
    "#result as \"square of that number minus 2\".\n",
    "\n",
    "l=[10, 9, 8, 7, 6, 5, 4, 3, 2, 1,0]\n",
    "for itr in l:\n",
    "    if (itr==0):\n",
    "        print()      #dummy print\n",
    "    elif itr%2==0:\n",
    "        print(\"Result\",(itr*itr)-2)"
   ]
  },
  {
   "cell_type": "markdown",
   "metadata": {},
   "source": [
    "# Question 5:"
   ]
  },
  {
   "cell_type": "code",
   "execution_count": 23,
   "metadata": {},
   "outputs": [
    {
     "name": "stdout",
     "output_type": "stream",
     "text": [
      "Element which is greater than 7 when that number is divided 2 is 20\n",
      "Element which is greater than 7 when that number is divided 2 is 30\n",
      "Element which is greater than 7 when that number is divided 2 is 60\n"
     ]
    }
   ],
   "source": [
    "#Consider a list of 10 elements. Print all the elements in the list which are greater than 7 when that\n",
    "#number is divided 2.\n",
    "\n",
    "l=[20, 9, 8, 30, 60, 5, 4, 3, 2, 1]\n",
    "for itr in l:\n",
    "    if (itr==0):\n",
    "        print()      #dummy print\n",
    "    elif ((itr/2)>7):\n",
    "        print(\"Element which is greater than 7 when that number is divided by 2 is\",itr)\n",
    "        "
   ]
  },
  {
   "cell_type": "code",
   "execution_count": 24,
   "metadata": {},
   "outputs": [
    {
     "data": {
      "text/plain": [
       "'C:\\\\Users\\\\91997\\\\letsupgrade_AI_ML\\\\Untitled Folder'"
      ]
     },
     "execution_count": 24,
     "metadata": {},
     "output_type": "execute_result"
    }
   ],
   "source": [
    "import os \n",
    "os.getcwd()"
   ]
  },
  {
   "cell_type": "code",
   "execution_count": null,
   "metadata": {},
   "outputs": [],
   "source": []
  }
 ],
 "metadata": {
  "kernelspec": {
   "display_name": "Python 3",
   "language": "python",
   "name": "python3"
  },
  "language_info": {
   "codemirror_mode": {
    "name": "ipython",
    "version": 3
   },
   "file_extension": ".py",
   "mimetype": "text/x-python",
   "name": "python",
   "nbconvert_exporter": "python",
   "pygments_lexer": "ipython3",
   "version": "3.7.6"
  }
 },
 "nbformat": 4,
 "nbformat_minor": 4
}
