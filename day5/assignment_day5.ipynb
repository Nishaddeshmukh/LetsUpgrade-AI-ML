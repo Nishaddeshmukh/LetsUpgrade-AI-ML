{
 "cells": [
  {
   "cell_type": "code",
   "execution_count": 11,
   "metadata": {},
   "outputs": [
    {
     "name": "stdout",
     "output_type": "stream",
     "text": [
      "3\n",
      "5\n",
      "7\n",
      "11\n",
      "13\n",
      "17\n",
      "19\n",
      "23\n",
      "29\n",
      "31\n",
      "37\n",
      "41\n",
      "43\n",
      "47\n",
      "53\n",
      "59\n",
      "61\n",
      "67\n",
      "71\n",
      "73\n"
     ]
    }
   ],
   "source": [
    "#Question 1 : Write a Python program to find the first 20 non-even prime natural numbers.\n",
    "\n",
    "j=0\n",
    "for num in range(3,1000):\n",
    "    prime = True\n",
    "    if j==20 :\n",
    "        break\n",
    "    for i in range(2,num):\n",
    "        if (num%i==0):\n",
    "            prime = False\n",
    "    if prime:\n",
    "       print (num)\n",
    "       j=j+1\n",
    "       "
   ]
  },
  {
   "cell_type": "markdown",
   "metadata": {},
   "source": [
    "# Question 2:\n",
    "__Write a Python program to implement 15 functions of string.__"
   ]
  },
  {
   "cell_type": "code",
   "execution_count": 35,
   "metadata": {},
   "outputs": [
    {
     "name": "stdout",
     "output_type": "stream",
     "text": [
      "Letsupgrade ai ml\n",
      "String:  *********Python*********\n",
      "Substring 'nishad': 0\n",
      "Substring 'abc': -1\n",
      "True\n",
      "isalpha use  True\n",
      "True\n",
      "False\n",
      "True\n",
      "True\n",
      "['Milk', 'Chicken', 'Bread']\n",
      "deshmukh deshmukh\n",
      "The count is: 2\n",
      "False\n",
      "True\n"
     ]
    }
   ],
   "source": [
    "# 1) the capitalize() method converts first character of a string to uppercase letter and lowercases all other characters, if any.\n",
    "\n",
    "u=\"letsupgrade ai ml\"\n",
    "x=u.capitalize()\n",
    "print(x)\n",
    "\n",
    "# 2)The center() method returns a string which is padded with the specified character.\n",
    "\n",
    "string = \"Python\"\n",
    "\n",
    "new_string = string.center(24, '*')\n",
    "\n",
    "print(\"String: \", new_string)\n",
    "\n",
    "# 3) The find() method returns the index of first occurrence of the substring (if found). If not found, it returns -1.\n",
    "\n",
    "quote = 'nishad 123, nishad 123'\n",
    "\n",
    "# 4) first occurance of 'nishad'(case sensitive)\n",
    "result = quote.find('nishad')\n",
    "print(\"Substring 'nishad':\", result)\n",
    "\n",
    "# 5) find returns -1 if substring not found\n",
    "result = quote.find('abc')\n",
    "print(\"Substring 'abc':\", result)\n",
    "\n",
    "# 6) The isalnum() method returns True if all characters in the string are alphanumeric (either alphabets or numbers). If not, it returns False.\n",
    "\n",
    "name = \"Mo3nicaGell22er\"\n",
    "print(name.isalnum())\n",
    "\n",
    "# 7) The isalpha() method returns True if all characters in the string are alphabets. If not, it returns False.\n",
    "\n",
    "name = \"Monica\"\n",
    "print(\"isalpha use \",name.isalpha())\n",
    "\n",
    "# 8) The isdecimal() method returns True if all characters in a string are decimal characters. If not, it returns False.\n",
    "\n",
    "s = \"28212\"\n",
    "print(s.isdecimal())\n",
    "\n",
    "# 9) contains alphabets\n",
    "s = \"32ladk3\"\n",
    "print(s.isdecimal())\n",
    "\n",
    "# 10) The isdigit() method returns True if all characters in a string are digits. If not, it returns False.\n",
    "\n",
    "s = \"28212\"\n",
    "print(s.isdigit())\n",
    "\n",
    "# 11) The string isupper() method returns whether or not all characters in a string are uppercased or not.\n",
    "\n",
    "string = \"THIS IS GOOD!\"\n",
    "print(string.isupper());\n",
    "\n",
    "# 12) The split() method breaks up a string at the specified separator and returns a list of strings.\n",
    "\n",
    "gro =\"Milk, Chicken, Bread\"\n",
    "\n",
    "   # splits at ','\n",
    "print(gro.split(', '))\n",
    "\n",
    "# 13) The replace() method returns a copy of the string where all occurrences of a substring is replaced with another substring.\n",
    "\n",
    "name = 'nishad deshmukh'\n",
    "print(name.replace('nishad', 'deshmukh'))\n",
    "\n",
    "# 14) The string count() method returns the number of occurrences of a substring in the given string.\n",
    "\n",
    "string = \"Python is awesome, isn't it?\"\n",
    "substring = \"is\"\n",
    "\n",
    "count = string.count(substring)\n",
    "\n",
    "  # print count\n",
    "print(\"The count is:\", count)\n",
    "\n",
    "# 15) The endswith() method returns True if a string ends with the specified suffix. If not, it returns False.\n",
    "\n",
    "text = \"Python is easy to learn.\"\n",
    "\n",
    "result = text.endswith('to learn')\n",
    "  # returns False\n",
    "print(result)\n",
    "\n",
    "result = text.endswith('to learn.')\n",
    "  # returns True\n",
    "print(result)\n"
   ]
  },
  {
   "cell_type": "markdown",
   "metadata": {},
   "source": [
    "# Question 3:\n",
    "__Write a Python program to check if the given string is a Palindrome or Anagram or None of them.\n",
    "Display the message accordingly to the user.__\n"
   ]
  },
  {
   "cell_type": "code",
   "execution_count": 28,
   "metadata": {},
   "outputs": [
    {
     "name": "stdout",
     "output_type": "stream",
     "text": [
      "Enter your stringjahiso\n",
      "Enter anagram stringjaihos\n",
      "Input string is Anagram\n"
     ]
    }
   ],
   "source": [
    "def To_check_palindrome(input_str):\n",
    "    if input_str==input_str[::-1]:\n",
    "        return 1\n",
    "    else:\n",
    "        return 0\n",
    "\n",
    "def To_check_Anagram(input_str,Ana_string):\n",
    "    for itr in range(len(input_str)):\n",
    "        if (input_str.find(Ana_string[itr]))==-1:\n",
    "            return 0\n",
    "        else:\n",
    "            continue;\n",
    "    return 1\n",
    "\n",
    "string=input(\"Enter your string\")\n",
    "Ana_string=input(\"Enter anagram string\")\n",
    "if To_check_palindrome(string):\n",
    "    print(\"Input string is Palindrome\");\n",
    "elif To_check_Anagram(string,Ana_string):\n",
    "    print(\"Input string is Anagram\")\n",
    "else:\n",
    "    printf(\"None\")\n"
   ]
  },
  {
   "cell_type": "markdown",
   "metadata": {},
   "source": [
    "# Question 4:\n",
    "__Write a Python's user defined function that removes all the additional characters from the string\n",
    "and converts it finally to lower case using built-in lower(). eg: If the string is \"Dr. Darshan Ingle\n",
    "@AI-ML Trainer\", then the output be \"drdarshaningleaimltrainer\"__"
   ]
  },
  {
   "cell_type": "code",
   "execution_count": 27,
   "metadata": {},
   "outputs": [
    {
     "name": "stdout",
     "output_type": "stream",
     "text": [
      "Enter your stringnishad deshmukh@gmail.Com\n",
      "nishaddeshmukhgmailcom\n"
     ]
    }
   ],
   "source": [
    "def rem_char(input_str):\n",
    "    unwanted = \"~!@#$%^&*()_+-=[]\\{}|;' ,./<> \"\n",
    "    for char in unwanted:\n",
    "         input_str = input_str.replace(char,\"\")\n",
    "    input_str=input_str.lower()\n",
    "    return input_str\n",
    "        \n",
    "            \n",
    "    \n",
    "string=input(\"Enter your string\")\n",
    "print(rem_char(string))"
   ]
  },
  {
   "cell_type": "code",
   "execution_count": null,
   "metadata": {},
   "outputs": [],
   "source": []
  }
 ],
 "metadata": {
  "kernelspec": {
   "display_name": "Python 3",
   "language": "python",
   "name": "python3"
  },
  "language_info": {
   "codemirror_mode": {
    "name": "ipython",
    "version": 3
   },
   "file_extension": ".py",
   "mimetype": "text/x-python",
   "name": "python",
   "nbconvert_exporter": "python",
   "pygments_lexer": "ipython3",
   "version": "3.7.6"
  }
 },
 "nbformat": 4,
 "nbformat_minor": 4
}
